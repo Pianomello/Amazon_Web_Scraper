{
 "cells": [
  {
   "cell_type": "markdown",
   "id": "630c6fa9-d869-499a-a690-6edd774cd5a3",
   "metadata": {},
   "source": [
    "### IMPORTING REQUIRED LIBRARIES"
   ]
  },
  {
   "cell_type": "code",
   "execution_count": 104,
   "id": "a015aed8-373c-48a9-b554-00f8a5531c37",
   "metadata": {},
   "outputs": [],
   "source": [
    "from bs4 import BeautifulSoup\n",
    "import requests\n",
    "import time\n",
    "import datetime\n",
    "import smtplib"
   ]
  },
  {
   "cell_type": "code",
   "execution_count": 105,
   "id": "a914c9b0-6f27-4bba-bd09-ea59e7429e12",
   "metadata": {},
   "outputs": [
    {
     "name": "stdout",
     "output_type": "stream",
     "text": [
      "DJI Osmo Pocket 3 Creator Combo, Vlogging Camera with 1'' CMOS & 4K/120fps Video, 3-Axis Stabilization, Face/Object Tracking, Fast Focusing, Mic Included for Clear Sound, Small Camera for Photography\n",
      "69990.0\n"
     ]
    }
   ],
   "source": [
    "# 1st step for this project is to extract the data from the Amazon website:\n",
    "\n",
    "\n",
    "URL = 'https://www.amazon.in/DJI-Vlogging-Stabilization-Tracking-Photography/dp/B0CG19FGQ5?ref_=Oct_d_obs_d_1389174031_0&pd_rd_w=2wSOo&content-id=amzn1.sym.a0183515-a55a-48ac-a863-406c0a598721&pf_rd_p=a0183515-a55a-48ac-a863-406c0a598721&pf_rd_r=NCK4FFH9JYRH6FN7FYBB&pd_rd_wg=wpy45&pd_rd_r=783e2e1f-a51a-4cbe-b0bd-296685d61daa&pd_rd_i=B0CG19FGQ5'\n",
    "headers = {\"User-Agent\": \"Mozilla/5.0 (Windows NT 10.0; Win64; x64) AppleWebKit/537.36 (KHTML, like Gecko) Chrome/78.0.3904.108 Safari/537.36\", \"Accept-Encoding\":\"gzip, deflate\", \"Accept\":\"text/html,application/xhtml+xml,application/xml;q=0.9,*/*;q=0.8\", \"DNT\":\"1\",\"Connection\":\"close\", \"Upgrade-Insecure-Requests\":\"1\"}\n",
    "\n",
    "# requesting the website:\n",
    "page = requests.get(URL, headers = headers)\n",
    "\n",
    "# to parse the HTML text:\n",
    "soup1 = BeautifulSoup(page.content, \"html.parser\")\n",
    "\n",
    "# to prettify the text\n",
    "soup2 = BeautifulSoup(soup1.prettify(), \"html.parser\")\n",
    "\n",
    "# to extract the title of the product:\n",
    "title = soup2.find(id = 'productTitle').get_text().strip()\n",
    "\n",
    "# to extract the price of the product:\n",
    "#price = soup2.find(class_ = 'a-price-whole').get_text().strip()\n",
    "\n",
    "# Extract and clean price components\n",
    "price_whole = soup2.find('span', class_='a-price-whole').get_text()\n",
    "price_whole_clean = ''.join(c for c in price_whole if c.isdigit())  # Removes commas, newlines, dots, spaces\n",
    "\n",
    "price_fraction = soup2.find('span', class_='a-price-fraction').get_text().strip()\n",
    "\n",
    "# Combine and convert\n",
    "price = float(f\"{price_whole_clean}.{price_fraction}\")\n",
    "\n",
    "\n",
    "\n",
    "print(title)\n",
    "print(price)\n",
    "\n",
    "# to get only the numeric value for the price:\n",
    "# price = price[1:]"
   ]
  },
  {
   "cell_type": "code",
   "execution_count": 106,
   "id": "f68fcff3-bb05-4230-8dfe-187c1a697f68",
   "metadata": {},
   "outputs": [
    {
     "name": "stdout",
     "output_type": "stream",
     "text": [
      "2025-06-24\n"
     ]
    }
   ],
   "source": [
    "# Then, we create a timespamp for our output to track when data was collected in this system:\n",
    "import datetime\n",
    "\n",
    "today = datetime.date.today()\n",
    "print(today)"
   ]
  },
  {
   "cell_type": "code",
   "execution_count": 107,
   "id": "858ae480-85d3-4aeb-81aa-9376264b863a",
   "metadata": {},
   "outputs": [],
   "source": [
    "# Now we create a CSV file and write headers and data into the file:\n",
    "import csv\n",
    "\n",
    "header = ['Product Title', 'Price', 'Date']\n",
    "data = [title, price, today]\n",
    "\n",
    "# Basic File handling: w -> to write, '' -> each row is without any spaces\n",
    "with open ('Web_Scraper_data.csv', 'w', newline = '', encoding = 'UTF8') as f:\n",
    "    writer = csv.writer(f)\n",
    "    writer.writerow(header)\n",
    "    writer.writerow(data)\n",
    "    "
   ]
  },
  {
   "cell_type": "code",
   "execution_count": 108,
   "id": "1927267f-e7ed-43e7-8e3d-dc3e7d999fff",
   "metadata": {},
   "outputs": [
    {
     "name": "stdout",
     "output_type": "stream",
     "text": [
      "                                       Product Title    Price        Date\n",
      "0  DJI Osmo Pocket 3 Creator Combo, Vlogging Came...  69990.0  2025-06-24\n"
     ]
    }
   ],
   "source": [
    "# Reading our new data file:\n",
    "import pandas as pd\n",
    "\n",
    "df = pd.read_csv('/home/aayan/Portfolio_Python/Amazon_Web_Scraper/Web_Scraper_data.csv')\n",
    "print(df)"
   ]
  },
  {
   "cell_type": "code",
   "execution_count": 109,
   "id": "8a52a5dd-74f2-4b0f-bd3d-5f82dd9d5552",
   "metadata": {},
   "outputs": [],
   "source": [
    "# Now, we append data to this CSV file:\n",
    "# a+ -> append symbol\n",
    "\n",
    "with open ('Web_Scraper_data.csv', 'a+', newline = '', encoding = 'UTF8') as f:\n",
    "    writer = csv.writer(f)\n",
    "    writer.writerow(data)"
   ]
  },
  {
   "cell_type": "code",
   "execution_count": 110,
   "id": "f5efb2e9-3d1d-46ed-bf28-7361c255b03d",
   "metadata": {},
   "outputs": [],
   "source": [
    "# Finally, we combine all of the above code into one function:\n",
    "\n",
    "def check_price():\n",
    "    URL = 'https://www.amazon.in/DJI-Vlogging-Stabilization-Tracking-Photography/dp/B0CG19FGQ5?ref_=Oct_d_obs_d_1389174031_0&pd_rd_w=2wSOo&content-id=amzn1.sym.a0183515-a55a-48ac-a863-406c0a598721&pf_rd_p=a0183515-a55a-48ac-a863-406c0a598721&pf_rd_r=NCK4FFH9JYRH6FN7FYBB&pd_rd_wg=wpy45&pd_rd_r=783e2e1f-a51a-4cbe-b0bd-296685d61daa&pd_rd_i=B0CG19FGQ5'\n",
    "    headers = {\"User-Agent\": \"Mozilla/5.0 (Windows NT 10.0; Win64; x64) AppleWebKit/537.36 (KHTML, like Gecko) Chrome/78.0.3904.108 Safari/537.36\", \"Accept-Encoding\":\"gzip, deflate\", \"Accept\":\"text/html,application/xhtml+xml,application/xml;q=0.9,*/*;q=0.8\", \"DNT\":\"1\",\"Connection\":\"close\", \"Upgrade-Insecure-Requests\":\"1\"}\n",
    "    page = requests.get(URL, headers = headers)\n",
    "    soup1 = BeautifulSoup(page.content, \"html.parser\")\n",
    "    soup2 = BeautifulSoup(soup1.prettify(), \"html.parser\")\n",
    "    title = soup2.find(id = 'productTitle').get_text().strip()\n",
    "    \n",
    "    # Extract and clean price components\n",
    "    price_whole = soup2.find('span', class_='a-price-whole').get_text()\n",
    "    price_whole_clean = ''.join(c for c in price_whole if c.isdigit())  # Removes commas, newlines, dots, spaces\n",
    "    price_fraction = soup2.find('span', class_='a-price-fraction').get_text().strip()\n",
    "    # Combine and convert\n",
    "    price = float(f\"{price_whole_clean}.{price_fraction}\")\n",
    "\n",
    "\n",
    "\n",
    "    today = datetime.date.today()\n",
    "\n",
    "    header = ['Product Title', 'Price', 'Date']\n",
    "    data = [title, price, today]\n",
    "\n",
    "    with open ('Web_Scraper_data.csv', 'a+', newline = '', encoding = 'UTF8') as f:\n",
    "        writer = csv.writer(f)\n",
    "        writer.writerow(data)\n",
    "\n",
    "    if(price < 65000):\n",
    "        send_mail()\n",
    "        \n",
    "\n"
   ]
  },
  {
   "cell_type": "markdown",
   "id": "db47dcdf-5770-4198-b341-a3069c1d8c7b",
   "metadata": {},
   "source": [
    "### START/STOP THE FUNCTION:"
   ]
  },
  {
   "cell_type": "code",
   "execution_count": 111,
   "id": "f93669b6-2965-405c-b378-288ec2077704",
   "metadata": {},
   "outputs": [
    {
     "ename": "KeyboardInterrupt",
     "evalue": "",
     "output_type": "error",
     "traceback": [
      "\u001b[0;31m---------------------------------------------------------------------------\u001b[0m",
      "\u001b[0;31mKeyboardInterrupt\u001b[0m                         Traceback (most recent call last)",
      "Cell \u001b[0;32mIn[111], line 5\u001b[0m\n\u001b[1;32m      3\u001b[0m \u001b[38;5;28;01mwhile\u001b[39;00m(\u001b[38;5;28;01mTrue\u001b[39;00m):\n\u001b[1;32m      4\u001b[0m     check_price()\n\u001b[0;32m----> 5\u001b[0m     time\u001b[38;5;241m.\u001b[39msleep(\u001b[38;5;241m86400\u001b[39m)\n",
      "\u001b[0;31mKeyboardInterrupt\u001b[0m: "
     ]
    }
   ],
   "source": [
    "# Running the above function after a set time (a day) and inputting data into our CSV file:\n",
    "\n",
    "while(True):\n",
    "    check_price()\n",
    "    time.sleep(86400)"
   ]
  },
  {
   "cell_type": "markdown",
   "id": "72004944-a457-4fc7-8ab9-32d8596531cf",
   "metadata": {},
   "source": [
    "### CHECKING THE PRICE DATA OVER TIME:"
   ]
  },
  {
   "cell_type": "code",
   "execution_count": null,
   "id": "7bc5e20f-1a02-42b7-8b21-610fe761611a",
   "metadata": {},
   "outputs": [],
   "source": [
    "import pandas as pd\n",
    "\n",
    "df = pd.read_csv('/home/aayan/Portfolio_Python/Amazon_Web_Scraper/Web_Scraper_data.csv')\n",
    "\n",
    "print(df) # to check periodically"
   ]
  },
  {
   "cell_type": "markdown",
   "id": "8930c835-2f59-44da-8ccb-43da29a942c6",
   "metadata": {},
   "source": [
    "### SENDING AN EMAIL"
   ]
  },
  {
   "cell_type": "code",
   "execution_count": null,
   "id": "d9ec75a6-f75c-4198-bd3c-1cc214037d04",
   "metadata": {},
   "outputs": [],
   "source": [
    "# Sending an email when a price hits below a threshold level, which we can introduce:\n",
    "\n",
    "def send_mail():\n",
    "    server = smtplib.SMTP_SSL('smtp.gmail.com',465)\n",
    "    server.ehlo()\n",
    "    #server.starttls()\n",
    "    sender_email = 'aayanak04@gmail.com'\n",
    "    receiver_email = 'aayanak04@gmail.com'\n",
    "    password = 'xxxxxxxxxxxxxx'\n",
    "    server.login(sender_email, password) # Entering my password, which is not shared here\n",
    "    \n",
    "    subject = \"The camera you want is below ₹65,000! Now is your chance to buy!\"\n",
    "    body = \"Aayan, This is the moment you have been waiting for! This is your chance to pick up the action camera of your dreams. Don't mess it up! 👉 Here is your link: https://www.amazon.in/DJI-Vlogging-Stabilization-Tracking-Photography/dp/B0CG19FGQ5?ref_=Oct_d_obs_d_1389174031_0&pd_rd_w=2wSOo&content-id=amzn1.sym.a0183515-a55a-48ac-a863-406c0a598721&pf_rd_p=a0183515-a55a-48ac-a863-406c0a598721&pf_rd_r=NCK4FFH9JYRH6FN7FYBB&pd_rd_wg=wpy45&pd_rd_r=783e2e1f-a51a-4cbe-b0bd-296685d61daa&pd_rd_i=B0CG19FGQ5\"\n",
    "   \n",
    "    msg = f\"Subject: {subject}\\n\\n{body}\"\n",
    "    \n",
    "    server.sendmail(sender_email, receiver_email, msg)\n",
    "    server.quit()\n",
    "    print(\"✅ Email sent successfully!\")\n",
    "     \n",
    "    "
   ]
  }
 ],
 "metadata": {
  "kernelspec": {
   "display_name": "Python 3 (ipykernel)",
   "language": "python",
   "name": "python3"
  },
  "language_info": {
   "codemirror_mode": {
    "name": "ipython",
    "version": 3
   },
   "file_extension": ".py",
   "mimetype": "text/x-python",
   "name": "python",
   "nbconvert_exporter": "python",
   "pygments_lexer": "ipython3",
   "version": "3.12.7"
  }
 },
 "nbformat": 4,
 "nbformat_minor": 5
}
